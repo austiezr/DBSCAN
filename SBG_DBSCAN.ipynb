{
 "cells": [
  {
   "cell_type": "code",
   "execution_count": 2,
   "metadata": {},
   "outputs": [],
   "source": [
    "import random, math, queue"
   ]
  },
  {
   "cell_type": "code",
   "execution_count": 3,
   "metadata": {},
   "outputs": [],
   "source": [
    "import numpy as np\n",
    "import pandas as pd"
   ]
  },
  {
   "cell_type": "code",
   "execution_count": 4,
   "metadata": {},
   "outputs": [],
   "source": [
    "df = pd.read_csv('minute_weather.csv')"
   ]
  },
  {
   "cell_type": "code",
   "execution_count": 5,
   "metadata": {},
   "outputs": [],
   "source": [
    "df = df.drop(columns=['rowID', 'hpwren_timestamp'])"
   ]
  },
  {
   "cell_type": "code",
   "execution_count": 7,
   "metadata": {},
   "outputs": [],
   "source": [
    "def neighborhood_graph(p, n, d, eps, X, neighbors):\n",
    "    \n",
    "    distance = 0.0\n",
    "    neighbor, low, high = 0, 0, 0\n",
    "    eps_sq = eps ** 2\n",
    "    \n",
    "    i = 0\n",
    "    while i < n:\n",
    "        \n",
    "        j = 0\n",
    "        while j < (p * (n - 1) - 1):\n",
    "            \n",
    "            low = i + 1\n",
    "            high = n - 1\n",
    "            \n",
    "            neighbor = random.randint(low, (high - low + 1))\n",
    "            \n",
    "            distance = 0.0\n",
    "            k = 0\n",
    "            while k < d:\n",
    "\n",
    "                distance += np.power(X[i * d + k] - X[neighbor * d + k], 2)\n",
    "                \n",
    "                if distance > eps_sq:\n",
    "                    break\n",
    "                        \n",
    "                k += 1\n",
    "            \n",
    "                if distance <= eps_sq:             \n",
    "                    neighbors[i].append(neighbor)\n",
    "                    neighbors[neighbor].append(i)\n",
    "        \n",
    "            j += 1\n",
    "            \n",
    "        i += 1\n",
    "    \n",
    "    return neighbors"
   ]
  },
  {
   "cell_type": "code",
   "execution_count": 8,
   "metadata": {},
   "outputs": [],
   "source": [
    "def DBSCAN(n, core, neighbors, result):\n",
    "    \n",
    "    q = queue.Queue()\n",
    "    neighbor, point, count = 0, 0, 0\n",
    "    \n",
    "    i = 0\n",
    "    while i < n:\n",
    "        \n",
    "        q = queue.Queue()\n",
    "        \n",
    "        if core[i] == 0 and result[i] == -1:\n",
    "            q.put(i)\n",
    "            result[i] = count\n",
    "            \n",
    "            while not q.empty():\n",
    "                \n",
    "                point = q.get()\n",
    "                \n",
    "                j = 0\n",
    "                while j < len(neighbors[point]):\n",
    "                    \n",
    "                    neighbor = neigbors[point][j]\n",
    "                    \n",
    "                    if core[neighbor] == -1 and result[neighbor] == -1:\n",
    "                        q.put(neighbor)\n",
    "                        result[neighbor] = count\n",
    "                    \n",
    "                    j += 1\n",
    "            \n",
    "            count += 1\n",
    "        \n",
    "        i += 1\n",
    "    \n",
    "    return result"
   ]
  },
  {
   "cell_type": "code",
   "execution_count": 9,
   "metadata": {},
   "outputs": [],
   "source": [
    "def cluster(n, neighbors, core, result):\n",
    "    \n",
    "    neighbor = 0\n",
    "    \n",
    "    i = 0\n",
    "    while i < n:\n",
    "        \n",
    "        if result[i] != -1:\n",
    "            continue\n",
    "        \n",
    "        j = 0\n",
    "        while j < len(neighbors[i]):\n",
    "            \n",
    "            neighbor = neighbors[i][j]\n",
    "            \n",
    "            if core[neighbor]:\n",
    "                result[i] = result[neighbor]\n",
    "                break\n",
    "            \n",
    "            j += 1\n",
    "        \n",
    "        i += 1\n",
    "    \n",
    "    return result"
   ]
  },
  {
   "cell_type": "code",
   "execution_count": 21,
   "metadata": {},
   "outputs": [],
   "source": [
    "def sgb_dbscan(p, n, d, eps, minPts, X, result):\n",
    "    \n",
    "    neighbors = [[0] * n] * n\n",
    "    core = [0] * n\n",
    "    \n",
    "    graph = neighborhood_graph(p, n, d, eps, X, neighbors)\n",
    "    \n",
    "    i = 0\n",
    "    while i < n:\n",
    "        \n",
    "        core[i] = (len(graph[i]) >= (minPts * p))\n",
    "        i += 1\n",
    "    \n",
    "    scan = DBSCAN(n, core, graph, result)\n",
    "    \n",
    "    clusters = cluster(n, graph, core, scan)\n",
    "    \n",
    "    return clusters"
   ]
  },
  {
   "cell_type": "code",
   "execution_count": 25,
   "metadata": {},
   "outputs": [],
   "source": [
    "class SGB_DBSCAN:\n",
    "    \n",
    "    def __init__(self, p, eps, minPts):\n",
    "        self.p = p\n",
    "        self.eps = eps\n",
    "        self.minPts = minPts\n",
    "    \n",
    "    def fit_predict(self, X):\n",
    "        X = np.ascontiguousarray(X, dtype=np.float32)\n",
    "        n, d = X.shape\n",
    "        \n",
    "        result = np.full(n, -1, dtype=np.int32)\n",
    "        \n",
    "        clusters = sgb_dbscan(self.p, n, d, self.eps, self.minPts, X, result)\n",
    "        \n",
    "        return clusters"
   ]
  },
  {
   "cell_type": "code",
   "execution_count": 26,
   "metadata": {},
   "outputs": [],
   "source": [
    "scanner = SGB_DBSCAN(.005, 5, 10)"
   ]
  },
  {
   "cell_type": "code",
   "execution_count": 27,
   "metadata": {},
   "outputs": [],
   "source": [
    "# clusters = scanner.fit_predict(df)\n",
    "# print(clusters)"
   ]
  },
  {
   "cell_type": "code",
   "execution_count": null,
   "metadata": {},
   "outputs": [],
   "source": []
  }
 ],
 "metadata": {
  "kernelspec": {
   "display_name": "Python 3",
   "language": "python",
   "name": "python3"
  },
  "language_info": {
   "codemirror_mode": {
    "name": "ipython",
    "version": 3
   },
   "file_extension": ".py",
   "mimetype": "text/x-python",
   "name": "python",
   "nbconvert_exporter": "python",
   "pygments_lexer": "ipython3",
   "version": "3.7.5"
  }
 },
 "nbformat": 4,
 "nbformat_minor": 4
}
